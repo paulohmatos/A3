{
  "nbformat": 4,
  "nbformat_minor": 0,
  "metadata": {
    "colab": {
      "provenance": [],
      "authorship_tag": "ABX9TyNhxhVWc+yNGmvs1GyYFpW0",
      "include_colab_link": true
    },
    "kernelspec": {
      "name": "python3",
      "display_name": "Python 3"
    },
    "language_info": {
      "name": "python"
    }
  },
  "cells": [
    {
      "cell_type": "markdown",
      "metadata": {
        "id": "view-in-github",
        "colab_type": "text"
      },
      "source": [
        "<a href=\"https://colab.research.google.com/github/paulohmatos/A3/blob/main/A3_IA.ipynb\" target=\"_parent\"><img src=\"https://colab.research.google.com/assets/colab-badge.svg\" alt=\"Open In Colab\"/></a>"
      ]
    },
    {
      "cell_type": "code",
      "execution_count": null,
      "metadata": {
        "colab": {
          "base_uri": "https://localhost:8080/"
        },
        "id": "mZCq3TLs4vkb",
        "outputId": "c9124acd-a956-4bb6-9c1d-0c44aca9ad77"
      },
      "outputs": [
        {
          "output_type": "stream",
          "name": "stdout",
          "text": [
            "\n"
          ]
        }
      ],
      "source": [
        "import pandas as pd\n",
        "import numpy as py\n",
        "from sklearn import tree\n",
        "from sklearn.tree import DecisionTreeClassifier as dt\n",
        "from sklearn.metrics import accuracy_score\n",
        "\n",
        "df_dados = pd.read_csv('dados.csv')\n",
        "\n",
        "df_dados.dropna(subset = ['education'], inplace = True)\n",
        "df_dados.dropna(subset = ['cigsPerDay'], inplace = True)\n",
        "df_dados.dropna(subset = ['BPMeds'], inplace = True)\n",
        "df_dados.dropna(subset = ['totChol'], inplace = True)\n",
        "df_dados.dropna(subset = ['heartRate'], inplace = True)\n",
        "df_dados.dropna(subset = ['glucose'], inplace = True)\n",
        "df_dados.dropna(subset = ['BMI'], inplace = True)\n",
        "\n",
        "df_dados.isnull().sum().sort_values(ascending=False)[:10]\n",
        "\n",
        "df_treino = df_dados\n",
        "\n",
        "x_treino = df_treino.iloc[ : , : -1]\n",
        "y_treino = df_treino.iloc[ : , -1]\n",
        "\n",
        "modelo = dt()\n",
        "\n",
        "modelo.fit(x_treino, y_treino)\n",
        "\n",
        "df_pratica = df_dados\n",
        "\n",
        "x_pratica = df_pratica.iloc[ : , : -1]\n",
        "y_prev = modelo.predict(x_pratica)\n",
        "print(y_prev)"
      ]
    },
    {
      "cell_type": "code",
      "source": [
        "print(accuracy_score(y_treino,y_prev))"
      ],
      "metadata": {
        "id": "rfuP0tKqVZdV"
      },
      "execution_count": null,
      "outputs": []
    },
    {
      "cell_type": "code",
      "source": [],
      "metadata": {
        "colab": {
          "base_uri": "https://localhost:8080/"
        },
        "id": "DTJUrfMxD_jg",
        "outputId": "dddcebb9-41a8-464f-9b57-b91e22e80e7e"
      },
      "execution_count": null,
      "outputs": [
        {
          "output_type": "stream",
          "name": "stdout",
          "text": [
            "1.0\n"
          ]
        }
      ]
    }
  ]
}